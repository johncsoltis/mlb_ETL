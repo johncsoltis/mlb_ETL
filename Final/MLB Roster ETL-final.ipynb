{
 "cells": [
  {
   "cell_type": "code",
   "execution_count": 11,
   "metadata": {},
   "outputs": [],
   "source": [
    "import requests\n",
    "from bs4 import BeautifulSoup\n",
    "import pandas as pd\n",
    "import numpy as np\n",
    "from sqlalchemy import create_engine\n",
    "import config"
   ]
  },
  {
   "cell_type": "markdown",
   "metadata": {},
   "source": [
    "## Scrape USA Today to get salaries for MLB players"
   ]
  },
  {
   "cell_type": "code",
   "execution_count": 2,
   "metadata": {},
   "outputs": [],
   "source": [
    "url = \"https://www.usatoday.com/sports/mlb/salaries/\"\n",
    "#use pandas to scrape tables into list of data frames\n",
    "tables = pd.read_html(url)"
   ]
  },
  {
   "cell_type": "code",
   "execution_count": 3,
   "metadata": {},
   "outputs": [
    {
     "data": {
      "text/html": [
       "<div>\n",
       "<style scoped>\n",
       "    .dataframe tbody tr th:only-of-type {\n",
       "        vertical-align: middle;\n",
       "    }\n",
       "\n",
       "    .dataframe tbody tr th {\n",
       "        vertical-align: top;\n",
       "    }\n",
       "\n",
       "    .dataframe thead th {\n",
       "        text-align: right;\n",
       "    }\n",
       "</style>\n",
       "<table border=\"1\" class=\"dataframe\">\n",
       "  <thead>\n",
       "    <tr style=\"text-align: right;\">\n",
       "      <th></th>\n",
       "      <th>rank</th>\n",
       "      <th>Name</th>\n",
       "      <th>Team</th>\n",
       "      <th>POS</th>\n",
       "      <th>Salary</th>\n",
       "      <th>Years</th>\n",
       "      <th>Total Value</th>\n",
       "      <th>Avg Annual</th>\n",
       "    </tr>\n",
       "  </thead>\n",
       "  <tbody>\n",
       "    <tr>\n",
       "      <th>0</th>\n",
       "      <td>--</td>\n",
       "      <td>Max Scherzer</td>\n",
       "      <td>WSH</td>\n",
       "      <td>SP</td>\n",
       "      <td>$42,142,857</td>\n",
       "      <td>7 (2015-21)</td>\n",
       "      <td>$210,000,000</td>\n",
       "      <td>$30,000,000</td>\n",
       "    </tr>\n",
       "    <tr>\n",
       "      <th>1</th>\n",
       "      <td>--</td>\n",
       "      <td>Stephen Strasburg</td>\n",
       "      <td>WSH</td>\n",
       "      <td>SP</td>\n",
       "      <td>$36,428,571</td>\n",
       "      <td>7 (2017-23)</td>\n",
       "      <td>$175,000,000</td>\n",
       "      <td>$25,000,000</td>\n",
       "    </tr>\n",
       "    <tr>\n",
       "      <th>2</th>\n",
       "      <td>--</td>\n",
       "      <td>Mike Trout</td>\n",
       "      <td>LAA</td>\n",
       "      <td>CF</td>\n",
       "      <td>$34,083,333</td>\n",
       "      <td>6 (2015-20)</td>\n",
       "      <td>$144,500,000</td>\n",
       "      <td>$24,083,333</td>\n",
       "    </tr>\n",
       "  </tbody>\n",
       "</table>\n",
       "</div>"
      ],
      "text/plain": [
       "  rank               Name Team POS       Salary        Years   Total Value  \\\n",
       "0   --       Max Scherzer  WSH  SP  $42,142,857  7 (2015-21)  $210,000,000   \n",
       "1   --  Stephen Strasburg  WSH  SP  $36,428,571  7 (2017-23)  $175,000,000   \n",
       "2   --         Mike Trout  LAA  CF  $34,083,333  6 (2015-20)  $144,500,000   \n",
       "\n",
       "    Avg Annual  \n",
       "0  $30,000,000  \n",
       "1  $25,000,000  \n",
       "2  $24,083,333  "
      ]
     },
     "execution_count": 3,
     "metadata": {},
     "output_type": "execute_result"
    }
   ],
   "source": [
    "#select the first table\n",
    "salaries = tables[0]\n",
    "salaries.head(3)"
   ]
  },
  {
   "cell_type": "markdown",
   "metadata": {},
   "source": [
    "## Scrape FanGraphs to get starting lineups for each team"
   ]
  },
  {
   "cell_type": "code",
   "execution_count": 4,
   "metadata": {},
   "outputs": [],
   "source": [
    "#create list of all MLB team names\n",
    "teams =['braves', 'marlins','mets','phillies', 'nationals', 'cubs', 'reds', 'brewers', 'pirates', 'cardinals','diamondbacks',\n",
    "        'rockies', 'dodgers','padres','giants','orioles','redsox','yankees','rays','bluejays','whitesox','indians','tigers',\n",
    "        'royals','twins','astros','angels','athletics', 'mariners','rangers']"
   ]
  },
  {
   "cell_type": "code",
   "execution_count": 5,
   "metadata": {},
   "outputs": [],
   "source": [
    "#Create empy lists and dataframes to store data for the scrape\n",
    "ndf=pd.DataFrame()\n",
    "url_list = []\n",
    "\n",
    "#loop to create list of url's for each team's lineup\n",
    "for i in teams:\n",
    "    url = \"https://www.fangraphs.com/teams/{}/depth-chart\".format(i)\n",
    "    url_list.append(url)\n",
    "\n",
    "#loop through each team's url to scrape their starting lineup\n",
    "for x in url_list:\n",
    "    res = requests.get(x)\n",
    "    soup = BeautifulSoup(res.content, 'lxml')\n",
    "    table = soup.find_all('div', {'class':'team-stats-table'})\n",
    "    df = pd.read_html(str(table))\n",
    "\n",
    "    lineup = []\n",
    "\n",
    "    for frame in df:\n",
    "        lineup.append(frame.loc[0])\n",
    "\n",
    "    #temp df to hold single team lineup    \n",
    "    tdf= pd.DataFrame(lineup)\n",
    "    #add positions\n",
    "    tdf['position'] = ['C','1B','2B', 'SS', '3B', 'LF', 'CF', 'RF', 'DH', 'ALL', 'SP', 'RP', 'AP']\n",
    "\n",
    "    #add team names\n",
    "    tn = x.split('/')\n",
    "    tdf['team_name'] = tn[4]\n",
    "    tdf = tdf.reset_index()\n",
    "    tdf = tdf.set_index('position')\n",
    "    \n",
    "    #drop the old index and non-useful positions\n",
    "    tdf = tdf.drop('index', axis=1)\n",
    "    tdf = tdf.drop(['ALL', 'AP'])\n",
    "\n",
    "    #add results to result df\n",
    "    ndf = pd.concat([ndf,tdf])\n",
    "    #clear temp df\n",
    "    tdf= pd.DataFrame()\n"
   ]
  },
  {
   "cell_type": "code",
   "execution_count": 6,
   "metadata": {},
   "outputs": [
    {
     "data": {
      "text/html": [
       "<div>\n",
       "<style scoped>\n",
       "    .dataframe tbody tr th:only-of-type {\n",
       "        vertical-align: middle;\n",
       "    }\n",
       "\n",
       "    .dataframe tbody tr th {\n",
       "        vertical-align: top;\n",
       "    }\n",
       "\n",
       "    .dataframe thead th {\n",
       "        text-align: right;\n",
       "    }\n",
       "</style>\n",
       "<table border=\"1\" class=\"dataframe\">\n",
       "  <thead>\n",
       "    <tr style=\"text-align: right;\">\n",
       "      <th></th>\n",
       "      <th>position</th>\n",
       "      <th>Name</th>\n",
       "      <th>PA</th>\n",
       "      <th>AVG</th>\n",
       "      <th>OBP</th>\n",
       "      <th>SLG</th>\n",
       "      <th>wOBA</th>\n",
       "      <th>Bat</th>\n",
       "      <th>Fld</th>\n",
       "      <th>BsR</th>\n",
       "      <th>...</th>\n",
       "      <th>IP</th>\n",
       "      <th>K/9</th>\n",
       "      <th>BB/9</th>\n",
       "      <th>HR/9</th>\n",
       "      <th>BABIP</th>\n",
       "      <th>LOB%</th>\n",
       "      <th>ERA</th>\n",
       "      <th>FIP</th>\n",
       "      <th>team_name</th>\n",
       "      <th>table_index</th>\n",
       "    </tr>\n",
       "  </thead>\n",
       "  <tbody>\n",
       "    <tr>\n",
       "      <th>0</th>\n",
       "      <td>C</td>\n",
       "      <td>Brian McCann</td>\n",
       "      <td>32.0</td>\n",
       "      <td>0.242</td>\n",
       "      <td>0.322</td>\n",
       "      <td>0.408</td>\n",
       "      <td>0.312</td>\n",
       "      <td>-0.5</td>\n",
       "      <td>-0.1</td>\n",
       "      <td>-0.1</td>\n",
       "      <td>...</td>\n",
       "      <td>NaN</td>\n",
       "      <td>NaN</td>\n",
       "      <td>NaN</td>\n",
       "      <td>NaN</td>\n",
       "      <td>NaN</td>\n",
       "      <td>NaN</td>\n",
       "      <td>NaN</td>\n",
       "      <td>NaN</td>\n",
       "      <td>braves</td>\n",
       "      <td>0</td>\n",
       "    </tr>\n",
       "    <tr>\n",
       "      <th>1</th>\n",
       "      <td>1B</td>\n",
       "      <td>Freddie Freeman</td>\n",
       "      <td>83.0</td>\n",
       "      <td>0.298</td>\n",
       "      <td>0.390</td>\n",
       "      <td>0.548</td>\n",
       "      <td>0.386</td>\n",
       "      <td>4.0</td>\n",
       "      <td>0.3</td>\n",
       "      <td>0.0</td>\n",
       "      <td>...</td>\n",
       "      <td>NaN</td>\n",
       "      <td>NaN</td>\n",
       "      <td>NaN</td>\n",
       "      <td>NaN</td>\n",
       "      <td>NaN</td>\n",
       "      <td>NaN</td>\n",
       "      <td>NaN</td>\n",
       "      <td>NaN</td>\n",
       "      <td>braves</td>\n",
       "      <td>1</td>\n",
       "    </tr>\n",
       "    <tr>\n",
       "      <th>2</th>\n",
       "      <td>2B</td>\n",
       "      <td>Ozzie Albies</td>\n",
       "      <td>80.0</td>\n",
       "      <td>0.279</td>\n",
       "      <td>0.333</td>\n",
       "      <td>0.469</td>\n",
       "      <td>0.335</td>\n",
       "      <td>0.3</td>\n",
       "      <td>0.7</td>\n",
       "      <td>0.3</td>\n",
       "      <td>...</td>\n",
       "      <td>NaN</td>\n",
       "      <td>NaN</td>\n",
       "      <td>NaN</td>\n",
       "      <td>NaN</td>\n",
       "      <td>NaN</td>\n",
       "      <td>NaN</td>\n",
       "      <td>NaN</td>\n",
       "      <td>NaN</td>\n",
       "      <td>braves</td>\n",
       "      <td>2</td>\n",
       "    </tr>\n",
       "  </tbody>\n",
       "</table>\n",
       "<p>3 rows × 21 columns</p>\n",
       "</div>"
      ],
      "text/plain": [
       "  position             Name    PA    AVG    OBP    SLG   wOBA  Bat  Fld  BsR  \\\n",
       "0        C     Brian McCann  32.0  0.242  0.322  0.408  0.312 -0.5 -0.1 -0.1   \n",
       "1       1B  Freddie Freeman  83.0  0.298  0.390  0.548  0.386  4.0  0.3  0.0   \n",
       "2       2B     Ozzie Albies  80.0  0.279  0.333  0.469  0.335  0.3  0.7  0.3   \n",
       "\n",
       "   ...  IP  K/9  BB/9  HR/9  BABIP  LOB% ERA  FIP  team_name table_index  \n",
       "0  ... NaN  NaN   NaN   NaN    NaN   NaN NaN  NaN     braves           0  \n",
       "1  ... NaN  NaN   NaN   NaN    NaN   NaN NaN  NaN     braves           1  \n",
       "2  ... NaN  NaN   NaN   NaN    NaN   NaN NaN  NaN     braves           2  \n",
       "\n",
       "[3 rows x 21 columns]"
      ]
     },
     "execution_count": 6,
     "metadata": {},
     "output_type": "execute_result"
    }
   ],
   "source": [
    "ndf = ndf.reset_index()\n",
    "ndf['table_index'] = np.arange(len(ndf))\n",
    "ndf.head(3)\n"
   ]
  },
  {
   "cell_type": "markdown",
   "metadata": {},
   "source": [
    "## Join the salary and lineup dataframes"
   ]
  },
  {
   "cell_type": "code",
   "execution_count": 7,
   "metadata": {},
   "outputs": [],
   "source": [
    "df_merge = pd.merge(ndf, salaries, on='Name', how='left')"
   ]
  },
  {
   "cell_type": "code",
   "execution_count": 38,
   "metadata": {},
   "outputs": [
    {
     "data": {
      "text/plain": [
       "position       330\n",
       "Name           330\n",
       "PA             270\n",
       "AVG            270\n",
       "OBP            270\n",
       "SLG            270\n",
       "wOBA           270\n",
       "Bat            270\n",
       "Fld            270\n",
       "BsR            270\n",
       "WAR            330\n",
       "IP              60\n",
       "K/9             60\n",
       "BB/9            60\n",
       "HR/9            60\n",
       "BABIP           60\n",
       "LOB_percent     60\n",
       "ERA             60\n",
       "FIP             60\n",
       "team_name      330\n",
       "Salary         270\n",
       "Years          270\n",
       "Total Value    270\n",
       "Avg Annual     270\n",
       "dtype: int64"
      ]
     },
     "execution_count": 38,
     "metadata": {},
     "output_type": "execute_result"
    }
   ],
   "source": [
    "#drop unwanted columns\n",
    "df_merge = df_merge.drop('rank', 1, errors = 'ignore')\n",
    "df_merge = df_merge.drop('index', 1, errors = 'ignore')\n",
    "df_merge = df_merge.drop('table_index', 1, errors = 'ignore')\n",
    "df_merge = df_merge.drop('POS', 1, errors = 'ignore')\n",
    "df_merge = df_merge.drop('Team', 1, errors = 'ignore')\n",
    "df = df_merge.rename(columns={\"LOB%\": \"LOB_percent\"})\n",
    "df.count()"
   ]
  },
  {
   "cell_type": "code",
   "execution_count": 39,
   "metadata": {},
   "outputs": [
    {
     "data": {
      "text/plain": [
       "position       60\n",
       "Name           60\n",
       "WAR            60\n",
       "IP             60\n",
       "K/9            60\n",
       "BB/9           60\n",
       "HR/9           60\n",
       "BABIP          60\n",
       "LOB_percent    60\n",
       "ERA            60\n",
       "FIP            60\n",
       "team_name      60\n",
       "Salary         56\n",
       "Years          56\n",
       "Total Value    56\n",
       "Avg Annual     56\n",
       "dtype: int64"
      ]
     },
     "execution_count": 39,
     "metadata": {},
     "output_type": "execute_result"
    }
   ],
   "source": [
    "#pitchers table\n",
    "pitchers = df.dropna(subset=['IP', 'ERA'])\n",
    "pitchers = pitchers.drop(pitchers.iloc[:, 2:10], axis = 1) \n",
    "pitchers.count()"
   ]
  },
  {
   "cell_type": "code",
   "execution_count": 40,
   "metadata": {},
   "outputs": [
    {
     "data": {
      "text/plain": [
       "position       270\n",
       "Name           270\n",
       "PA             270\n",
       "AVG            270\n",
       "OBP            270\n",
       "SLG            270\n",
       "wOBA           270\n",
       "Bat            270\n",
       "Fld            270\n",
       "BsR            270\n",
       "WAR            270\n",
       "team_name      270\n",
       "Salary         214\n",
       "Years          214\n",
       "Total Value    214\n",
       "Avg Annual     214\n",
       "dtype: int64"
      ]
     },
     "execution_count": 40,
     "metadata": {},
     "output_type": "execute_result"
    }
   ],
   "source": [
    "#Fielders table\n",
    "fielder = df.dropna(subset=['AVG', 'OBP'])\n",
    "fielder = fielder.drop(fielder.iloc[:, 11:19], axis = 1) \n",
    "fielder.count()"
   ]
  },
  {
   "cell_type": "markdown",
   "metadata": {},
   "source": [
    "## Load into Database"
   ]
  },
  {
   "cell_type": "code",
   "execution_count": 12,
   "metadata": {},
   "outputs": [],
   "source": [
    "connection_string = \"{}:{}@localhost:5432/mlb_db\".format(config.username, config.password)\n",
    "engine = create_engine(f'postgresql://{connection_string}')"
   ]
  },
  {
   "cell_type": "code",
   "execution_count": 42,
   "metadata": {},
   "outputs": [],
   "source": [
    "df.to_sql(name='starting_rosters', con=engine, if_exists='replace', index=True)"
   ]
  },
  {
   "cell_type": "code",
   "execution_count": 41,
   "metadata": {},
   "outputs": [],
   "source": [
    "pitchers.to_sql(name='pitchers', con=engine, if_exists='replace', index=False)\n",
    "fielder.to_sql(name='fielders', con=engine, if_exists='replace', index=False)"
   ]
  },
  {
   "cell_type": "code",
   "execution_count": null,
   "metadata": {},
   "outputs": [],
   "source": []
  }
 ],
 "metadata": {
  "kernelspec": {
   "display_name": "Python 3",
   "language": "python",
   "name": "python3"
  },
  "language_info": {
   "codemirror_mode": {
    "name": "ipython",
    "version": 3
   },
   "file_extension": ".py",
   "mimetype": "text/x-python",
   "name": "python",
   "nbconvert_exporter": "python",
   "pygments_lexer": "ipython3",
   "version": "3.7.3"
  }
 },
 "nbformat": 4,
 "nbformat_minor": 2
}
